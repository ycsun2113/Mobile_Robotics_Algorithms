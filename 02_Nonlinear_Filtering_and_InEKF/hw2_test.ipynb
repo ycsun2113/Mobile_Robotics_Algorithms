{
 "cells": [
  {
   "cell_type": "markdown",
   "metadata": {},
   "source": [
    "EKF Test"
   ]
  },
  {
   "cell_type": "code",
   "execution_count": 2,
   "metadata": {},
   "outputs": [
    {
     "name": "stdout",
     "output_type": "stream",
     "text": [
      "The autoreload extension is already loaded. To reload it, use:\n",
      "  %reload_ext autoreload\n"
     ]
    }
   ],
   "source": [
    "# run this block to enable autoreload of modules\n",
    "%load_ext autoreload\n",
    "%autoreload 2"
   ]
  },
  {
   "cell_type": "code",
   "execution_count": 3,
   "metadata": {},
   "outputs": [],
   "source": [
    "from nonlinear_filtering_ekf import *\n",
    "import numpy as np\n",
    "import matplotlib.pyplot as plt"
   ]
  },
  {
   "cell_type": "code",
   "execution_count": 10,
   "metadata": {},
   "outputs": [
    {
     "name": "stdout",
     "output_type": "stream",
     "text": [
      "z1: \n",
      "[[3.]\n",
      " [3.]]\n",
      "z2: \n",
      "[[3.]\n",
      " [3.]]\n"
     ]
    }
   ],
   "source": [
    "\"\"\"\n",
    "    @param  K_f: camera intrinisic matrix (2, 2)\n",
    "    @param  p:   point (3, 1)\n",
    "    @param  c:   optical center (2, 1)\n",
    "    @param  R:   rotation matrix of camera 2 wrt camera 1 (3, 3)\n",
    "    @param  t:   translation vector of camera 2 wrt camera 1 (3, 1)\n",
    "    @return z:   measurement (2, 1)\n",
    "\"\"\"\n",
    "\n",
    "K_f = np.array([[1, 1], [1, 1]])\n",
    "p = np.array([[1, 1, 1]]).reshape((3,1))\n",
    "c = np.array([[1, 1]]).reshape((2,1))\n",
    "R = np.array([[1, 1, 1], [1, 1, 1], [1, 1, 1]])\n",
    "t = np.zeros((3,1))\n",
    "# z = (K_f * p[2]) @ np.array([[p[0], p[1]]]).reshape((2,1)) + c\n",
    "z1 = measurement_model_1(K_f, p, c)\n",
    "z2 = measurement_model_2(K_f, p, c, R, t)\n",
    "\n",
    "print(\"z1: \")\n",
    "print(z1)\n",
    "print()\n",
    "print(\"z2: \")\n",
    "print(z2)"
   ]
  },
  {
   "cell_type": "code",
   "execution_count": 18,
   "metadata": {},
   "outputs": [
    {
     "name": "stdout",
     "output_type": "stream",
     "text": [
      "H1: \n",
      "[[ 1.  1. -2.]\n",
      " [ 1.  1. -2.]]\n",
      "\n",
      "H2: \n",
      "[[0. 0. 0.]\n",
      " [0. 0. 0.]]\n"
     ]
    }
   ],
   "source": [
    "\"\"\"\n",
    "    @param  K_f: camera intrinisic matrix (2, 2)\n",
    "    @param  p:   point (3, 1)\n",
    "    @param  c:   optical center (2, 1)\n",
    "    @param  R:   rotation matrix of camera 2 wrt camera 1 (3, 3)\n",
    "    @param  t:   translation vector of camera 2 wrt camera 1 (3, 1)\n",
    "    @return z:   measurement (2, 1)\n",
    "\"\"\"\n",
    "\n",
    "K_f = np.array([[1, 1], [1, 1]])\n",
    "p = np.array([[1, 1, 1]]).reshape((3,1))\n",
    "c = np.array([[1, 1]]).reshape((2,1))\n",
    "R = np.array([[1, 1, 1], [1, 1, 1], [1, 1, 1]])\n",
    "t = np.zeros((3,1))\n",
    "\n",
    "H1 = measurement_Jacobain_1(K_f, p)\n",
    "H2 = measurement_Jacobain_2(K_f, p, R, t)\n",
    "\n",
    "print(\"H1: \")\n",
    "print(H1)\n",
    "print()\n",
    "print(\"H2: \")\n",
    "print(H2)"
   ]
  },
  {
   "cell_type": "markdown",
   "metadata": {},
   "source": [
    "Particle Filter Test"
   ]
  },
  {
   "cell_type": "code",
   "execution_count": 1,
   "metadata": {},
   "outputs": [],
   "source": [
    "from nonlinear_filtering_pf import *"
   ]
  },
  {
   "cell_type": "code",
   "execution_count": 4,
   "metadata": {},
   "outputs": [
    {
     "name": "stdout",
     "output_type": "stream",
     "text": [
      "(3, 1)\n"
     ]
    }
   ],
   "source": [
    "x = np.ones((3,))\n",
    "w = np.ones((3,1))\n",
    "\n",
    "x_pred = np.zeros((3,1)) # placeholder\n",
    "x_pred = x.reshape((3,1)) + w\n",
    "\n",
    "# x_pred = particle_filter(x, w)\n",
    "print(x_pred.shape)"
   ]
  }
 ],
 "metadata": {
  "kernelspec": {
   "display_name": "rob530",
   "language": "python",
   "name": "python3"
  },
  "language_info": {
   "codemirror_mode": {
    "name": "ipython",
    "version": 3
   },
   "file_extension": ".py",
   "mimetype": "text/x-python",
   "name": "python",
   "nbconvert_exporter": "python",
   "pygments_lexer": "ipython3",
   "version": "3.12.8"
  }
 },
 "nbformat": 4,
 "nbformat_minor": 2
}
